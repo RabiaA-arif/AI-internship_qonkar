{
 "cells": [
  {
   "cell_type": "code",
   "execution_count": 3,
   "id": "8438d2d2-558c-45cd-bd92-419b39badea0",
   "metadata": {},
   "outputs": [
    {
     "name": "stdout",
     "output_type": "stream",
     "text": [
      "Error getting embeddings from GroqCloud: HTTPSConnectionPool(host='api.groqcloud.com', port=443): Max retries exceeded with url: /embeddings (Caused by NameResolutionError(\"<urllib3.connection.HTTPSConnection object at 0x00000217BE7BAC90>: Failed to resolve 'api.groqcloud.com' ([Errno 11001] getaddrinfo failed)\"))\n"
     ]
    }
   ],
   "source": [
    "import requests\n",
    "import json\n",
    "\n",
    "GROQCLOUD_API_KEY = \"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\"  # Replace with your actual key\n",
    "GROQCLOUD_EMBEDDING_ENDPOINT = \"https://api.groqcloud.com/embeddings\" # Replace with the actual endpoint\n",
    "GROQCLOUD_EMBEDDING_MODEL = \"llama-3.3-70b-versatile\" # Replace with the model name\n",
    "\n",
    "def get_groq_embeddings(texts):\n",
    "    headers = {\n",
    "        \"Authorization\": f\"Bearer {GROQCLOUD_API_KEY}\",\n",
    "        \"Content-Type\": \"application/json\"\n",
    "    }\n",
    "    payload = {\n",
    "        \"model\": GROQCLOUD_EMBEDDING_MODEL,\n",
    "        \"input\": texts\n",
    "    }\n",
    "    try:\n",
    "        response = requests.post(GROQCLOUD_EMBEDDING_ENDPOINT, headers=headers, data=json.dumps(payload))\n",
    "        response.raise_for_status()  # Raise an exception for bad status codes\n",
    "        data = response.json()\n",
    "        return [embedding[\"embedding\"] for embedding in data[\"data\"]] # Adjust based on API response structure\n",
    "    except requests.exceptions.RequestException as e:\n",
    "        print(f\"Error getting embeddings from GroqCloud: {e}\")\n",
    "        return None\n",
    "\n",
    "documents = [\n",
    "    \"The weather today is pleasant in Nawabshah.\",\n",
    "    \"GroqCloud offers fast AI inference.\",\n",
    "    \"Summer can be very hot.\",\n",
    "    \"Python is great for data science.\"\n",
    "]\n",
    "\n",
    "embeddings = get_groq_embeddings(documents)\n",
    "\n",
    "if embeddings:\n",
    "    print(\"Successfully obtained embeddings from GroqCloud.\")\n",
    "    # Now you can proceed to add these embeddings to ChromaDB"
   ]
  },
  {
   "cell_type": "code",
   "execution_count": null,
   "id": "133e95a5-592f-491e-af73-a3b118ada157",
   "metadata": {},
   "outputs": [],
   "source": [
    "import chromadb\n",
    "\n",
    "# Assuming you have your ChromaDB client and collection initialized\n",
    "client = chromadb.Client()\n",
    "collection_name = \"groq_collection\"\n",
    "collection = client.get_or_create_collection(name=collection_name)\n",
    "\n",
    "documents = [\n",
    "    \"The weather today is pleasant in Nawabshah.\",\n",
    "    \"GroqCloud offers fast AI inference.\",\n",
    "    \"Summer can be very hot.\",\n",
    "    \"Python is great for data science.\"\n",
    "]\n",
    "metadatas = [\n",
    "    {\"location\": \"Nawabshah\", \"topic\": \"weather\"},\n",
    "    {\"company\": \"Groq\", \"topic\": \"AI\"},\n",
    "    {\"location\": \"Nawabshah\", \"topic\": \"weather\", \"season\": \"summer\"},\n",
    "    {\"language\": \"Python\", \"topic\": \"programming\"}\n",
    "]\n",
    "ids = [\"doc1\", \"doc2\", \"doc3\", \"doc4\"]\n",
    "\n",
    "# Assuming 'embeddings' is the list of embeddings you got from GroqCloud\n",
    "if embeddings and len(embeddings) == len(documents):\n",
    "    collection.add(\n",
    "        embeddings=embeddings,\n",
    "        documents=documents,\n",
    "        metadatas=metadatas,\n",
    "        ids=ids\n",
    "    )\n",
    "    print(f\"Added {collection.count()} items to the GroqCloud-backed collection.\")\n",
    "else:\n",
    "    print(\"Error: Number of embeddings does not match the number of documents.\")"
   ]
  }
 ],
 "metadata": {
  "kernelspec": {
   "display_name": "Python 3 (ipykernel)",
   "language": "python",
   "name": "python3"
  },
  "language_info": {
   "codemirror_mode": {
    "name": "ipython",
    "version": 3
   },
   "file_extension": ".py",
   "mimetype": "text/x-python",
   "name": "python",
   "nbconvert_exporter": "python",
   "pygments_lexer": "ipython3",
   "version": "3.12.9"
  }
 },
 "nbformat": 4,
 "nbformat_minor": 5
}
